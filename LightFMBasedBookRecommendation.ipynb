{
 "cells": [
  {
   "cell_type": "code",
   "execution_count": 1,
   "id": "0bbbddd4-8892-4e7a-9c80-6d719c5a363b",
   "metadata": {
    "tags": []
   },
   "outputs": [
    {
     "name": "stdout",
     "output_type": "stream",
     "text": [
      "Note: you may need to restart the kernel to use updated packages.\n"
     ]
    }
   ],
   "source": [
    "%pip --quiet install lightfm\n"
   ]
  },
  {
   "cell_type": "code",
   "execution_count": 2,
   "id": "ca93a4b7-10e4-4db3-aedf-d268eeea6475",
   "metadata": {
    "tags": []
   },
   "outputs": [
    {
     "name": "stderr",
     "output_type": "stream",
     "text": [
      "/tmp/ipykernel_6953/756767057.py:6: DtypeWarning: Columns (3) have mixed types. Specify dtype option on import or set low_memory=False.\n",
      "  books = pd.read_csv('Books.csv')\n"
     ]
    }
   ],
   "source": [
    "from lightfm.data import Dataset\n",
    "import pandas as pd\n",
    "\n",
    "dataset = Dataset()\n",
    "\n",
    "books = pd.read_csv('Books.csv')\n",
    "books = books.astype(str)\n",
    "\n",
    "users = pd.read_csv('Users.csv')\n",
    "users['Age'] = users['Age'].fillna(users['Age'].median())\n",
    "users = users.astype(str)\n",
    "\n",
    "ratings = pd.read_csv('Ratings.csv')\n",
    "ratings = ratings.astype(str)\n",
    "ratings['Book-Rating'] = ratings['Book-Rating'].astype(int)\n",
    "\n"
   ]
  },
  {
   "cell_type": "code",
   "execution_count": 3,
   "id": "7f0de22b-f6e3-4758-a3f5-e3910b2247b1",
   "metadata": {
    "tags": []
   },
   "outputs": [
    {
     "name": "stdout",
     "output_type": "stream",
     "text": [
      "  User-ID                            Location   Age\n",
      "0       1                  nyc, new york, usa  32.0\n",
      "1       2           stockton, california, usa  18.0\n",
      "2       3     moscow, yukon territory, russia  32.0\n",
      "3       4           porto, v.n.gaia, portugal  17.0\n",
      "4       5  farnborough, hants, united kingdom  32.0\n",
      "         ISBN                                         Book-Title  \\\n",
      "0  0195153448                                Classical Mythology   \n",
      "1  0002005018                                       Clara Callan   \n",
      "2  0060973129                               Decision in Normandy   \n",
      "3  0374157065  Flu: The Story of the Great Influenza Pandemic...   \n",
      "4  0393045218                             The Mummies of Urumchi   \n",
      "\n",
      "            Book-Author Year-Of-Publication                   Publisher  \\\n",
      "0    Mark P. O. Morford                2002     Oxford University Press   \n",
      "1  Richard Bruce Wright                2001       HarperFlamingo Canada   \n",
      "2          Carlo D'Este                1991             HarperPerennial   \n",
      "3      Gina Bari Kolata                1999        Farrar Straus Giroux   \n",
      "4       E. J. W. Barber                1999  W. W. Norton &amp; Company   \n",
      "\n",
      "                                         Image-URL-S  \\\n",
      "0  http://images.amazon.com/images/P/0195153448.0...   \n",
      "1  http://images.amazon.com/images/P/0002005018.0...   \n",
      "2  http://images.amazon.com/images/P/0060973129.0...   \n",
      "3  http://images.amazon.com/images/P/0374157065.0...   \n",
      "4  http://images.amazon.com/images/P/0393045218.0...   \n",
      "\n",
      "                                         Image-URL-M  \\\n",
      "0  http://images.amazon.com/images/P/0195153448.0...   \n",
      "1  http://images.amazon.com/images/P/0002005018.0...   \n",
      "2  http://images.amazon.com/images/P/0060973129.0...   \n",
      "3  http://images.amazon.com/images/P/0374157065.0...   \n",
      "4  http://images.amazon.com/images/P/0393045218.0...   \n",
      "\n",
      "                                         Image-URL-L  \n",
      "0  http://images.amazon.com/images/P/0195153448.0...  \n",
      "1  http://images.amazon.com/images/P/0002005018.0...  \n",
      "2  http://images.amazon.com/images/P/0060973129.0...  \n",
      "3  http://images.amazon.com/images/P/0374157065.0...  \n",
      "4  http://images.amazon.com/images/P/0393045218.0...  \n",
      "  User-ID        ISBN  Book-Rating\n",
      "0  276725  034545104X            0\n",
      "1  276726  0155061224            5\n",
      "2  276727  0446520802            0\n",
      "3  276729  052165615X            3\n",
      "4  276729  0521795028            6\n"
     ]
    }
   ],
   "source": [
    "print(users.head())\n",
    "print(books.head())\n",
    "print(ratings.head())"
   ]
  },
  {
   "cell_type": "code",
   "execution_count": 4,
   "id": "696fa4ed-f32e-4864-9ef4-3c93ceeffc05",
   "metadata": {
    "tags": []
   },
   "outputs": [],
   "source": [
    "users=users[users['User-ID'].isin(ratings['User-ID'])] # ValueError: user id 1 not in user id mappings. (if user in users but not in ratings)\n",
    "books=books[books['ISBN'].isin(ratings['ISBN'])] # ValueError: item id 044990671X not in item id mappings. (if book is in books but not in ratings)\n",
    "\n",
    "book_features = [\n",
    "    (item_id, [f'{title}', f'{author}', f'{year_of_publication}', f'{publisher}'])\n",
    "    for item_id, title, author, year_of_publication, publisher in zip(books['ISBN'], books['Book-Title'], books['Book-Author'], books['Year-Of-Publication'], books['Publisher'])\n",
    "]\n",
    "\n",
    "user_features = [\n",
    "    (user_id, [f'{location}', f'{age}'])\n",
    "    for user_id, location, age in zip(users['User-ID'], users['Location'], users['Age'])\n",
    "]"
   ]
  },
  {
   "cell_type": "code",
   "execution_count": 5,
   "id": "f16fb774-ee57-4392-936b-1e8dbf12ac14",
   "metadata": {
    "tags": []
   },
   "outputs": [
    {
     "data": {
      "text/plain": [
       "[('0195153448',\n",
       "  ['Classical Mythology',\n",
       "   'Mark P. O. Morford',\n",
       "   '2002',\n",
       "   'Oxford University Press']),\n",
       " ('0002005018',\n",
       "  ['Clara Callan', 'Richard Bruce Wright', '2001', 'HarperFlamingo Canada']),\n",
       " ('0060973129',\n",
       "  ['Decision in Normandy', \"Carlo D'Este\", '1991', 'HarperPerennial']),\n",
       " ('0374157065',\n",
       "  ['Flu: The Story of the Great Influenza Pandemic of 1918 and the Search for the Virus That Caused It',\n",
       "   'Gina Bari Kolata',\n",
       "   '1999',\n",
       "   'Farrar Straus Giroux']),\n",
       " ('0393045218',\n",
       "  ['The Mummies of Urumchi',\n",
       "   'E. J. W. Barber',\n",
       "   '1999',\n",
       "   'W. W. Norton &amp; Company'])]"
      ]
     },
     "execution_count": 5,
     "metadata": {},
     "output_type": "execute_result"
    }
   ],
   "source": [
    "book_features[:5]"
   ]
  },
  {
   "cell_type": "code",
   "execution_count": 6,
   "id": "f77c8543-3ed7-4931-91ae-e27fb928a150",
   "metadata": {
    "tags": []
   },
   "outputs": [
    {
     "data": {
      "text/plain": [
       "[('2', ['stockton, california, usa', '18.0']),\n",
       " ('7', ['washington, dc, usa', '32.0']),\n",
       " ('8', ['timmins, ontario, canada', '32.0']),\n",
       " ('9', ['germantown, tennessee, usa', '32.0']),\n",
       " ('10', ['albacete, wisconsin, spain', '26.0'])]"
      ]
     },
     "execution_count": 6,
     "metadata": {},
     "output_type": "execute_result"
    }
   ],
   "source": [
    "user_features[:5]"
   ]
  },
  {
   "cell_type": "code",
   "execution_count": 7,
   "id": "1950ead9-9425-428e-83fa-64222804240b",
   "metadata": {
    "tags": []
   },
   "outputs": [],
   "source": [
    "\n",
    "\n",
    "dataset.fit(\n",
    "    users = ratings[\"User-ID\"].unique(),\n",
    "    items = ratings[\"ISBN\"].unique(),\n",
    "    user_features=users[[\"Location\",\"Age\"]].values.flatten().tolist(),\n",
    "    item_features=books[[\"Book-Title\",\"Book-Author\",\"Year-Of-Publication\",\"Publisher\"]].values.flatten().tolist()\n",
    ")\n",
    "\n",
    "ratings_tuples = list(zip(ratings[\"User-ID\"], ratings[\"ISBN\"], ratings[\"Book-Rating\"]))\n",
    "(interactions, weights) = dataset.build_interactions(ratings_tuples)\n",
    "\n",
    "user_features_list = dataset.build_user_features(user_features)\n",
    "item_features_list = dataset.build_item_features(book_features)"
   ]
  },
  {
   "cell_type": "code",
   "execution_count": 8,
   "id": "13cf75b2-2fb1-4490-a9d9-1bd072120832",
   "metadata": {
    "tags": []
   },
   "outputs": [
    {
     "data": {
      "text/plain": [
       "<5x131538 sparse matrix of type '<class 'numpy.float32'>'\n",
       "\twith 15 stored elements in Compressed Sparse Row format>"
      ]
     },
     "execution_count": 8,
     "metadata": {},
     "output_type": "execute_result"
    }
   ],
   "source": [
    "user_features_list[:5]"
   ]
  },
  {
   "cell_type": "code",
   "execution_count": 9,
   "id": "5e156363-cb64-433e-a750-3ebc76ac0f78",
   "metadata": {
    "tags": []
   },
   "outputs": [
    {
     "data": {
      "text/plain": [
       "<5x699042 sparse matrix of type '<class 'numpy.float32'>'\n",
       "\twith 25 stored elements in Compressed Sparse Row format>"
      ]
     },
     "execution_count": 9,
     "metadata": {},
     "output_type": "execute_result"
    }
   ],
   "source": [
    "item_features_list[:5]"
   ]
  },
  {
   "cell_type": "code",
   "execution_count": 10,
   "id": "0a50bbdd-4039-49aa-9bf0-306e11a3b051",
   "metadata": {
    "tags": []
   },
   "outputs": [
    {
     "name": "stderr",
     "output_type": "stream",
     "text": [
      "Epoch: 100%|██████████| 30/30 [02:13<00:00,  4.44s/it]\n"
     ]
    },
    {
     "data": {
      "text/plain": [
       "<lightfm.lightfm.LightFM at 0x7f6d83cb24d0>"
      ]
     },
     "execution_count": 10,
     "metadata": {},
     "output_type": "execute_result"
    }
   ],
   "source": [
    "from lightfm import LightFM\n",
    "\n",
    "model = LightFM(loss=\"warp\")\n",
    "model.fit(\n",
    "    interactions=interactions,\n",
    "    sample_weight=weights,\n",
    "    user_features=user_features_list,\n",
    "    item_features=item_features_list,\n",
    "    verbose=True,\n",
    "    epochs=30,\n",
    "    num_threads=2,\n",
    ")"
   ]
  },
  {
   "cell_type": "code",
   "execution_count": 11,
   "id": "fa300ae3-f293-437b-9c24-0d84b92df142",
   "metadata": {
    "tags": []
   },
   "outputs": [],
   "source": [
    "# from lightfm.evaluation import precision_at_k\n",
    "# precision = precision_at_k(model, interactions, k=5, num_threads=2, \n",
    "#     user_features=user_features_list,\n",
    "#     item_features=item_features_list,\n",
    "# )\n",
    "\n",
    "# print('Precision: ', precision.mean())"
   ]
  },
  {
   "cell_type": "code",
   "execution_count": 35,
   "id": "397fb53a-e7d3-4880-981f-7bd43277e7b1",
   "metadata": {
    "tags": []
   },
   "outputs": [
    {
     "name": "stdout",
     "output_type": "stream",
     "text": [
      "[-14.785079 -15.492586 -14.456781 ... -16.723995 -16.38905  -16.219461]\n",
      "26    Top Recommendation is Wild Animus\n",
      "Name: Book-Title, dtype: object\n"
     ]
    }
   ],
   "source": [
    "\n",
    "# predict(user_ids, item_ids, item_features=None, user_features=None, num_threads=1)\n",
    "import numpy as np\n",
    "book_ids = np.arange(len(ratings[\"ISBN\"].unique()))\n",
    "user_ids = np.arange(len(ratings[\"User-ID\"].unique()))\n",
    "\n",
    "# predict for user-id 20\n",
    "pred = model.predict(\n",
    "    user_ids=np.repeat(20, len(book_ids)),\n",
    "    item_ids=book_ids,\n",
    "    user_features=user_features_list,\n",
    "    item_features=item_features_list,\n",
    "    num_threads=2\n",
    ")\n",
    "print(pred)\n",
    "\n",
    "max_index = np.argmax(pred)\n",
    "ISBN = ratings[\"ISBN\"].unique()[max_index]\n",
    "print(\"Top Recommendation is \" + books[books['ISBN']==ISBN]['Book-Title'])"
   ]
  },
  {
   "cell_type": "code",
   "execution_count": null,
   "id": "187b441e-2d14-44ec-8070-0cef4328ab97",
   "metadata": {},
   "outputs": [],
   "source": []
  }
 ],
 "metadata": {
  "kernelspec": {
   "display_name": "conda_pytorch_p310",
   "language": "python",
   "name": "conda_pytorch_p310"
  },
  "language_info": {
   "codemirror_mode": {
    "name": "ipython",
    "version": 3
   },
   "file_extension": ".py",
   "mimetype": "text/x-python",
   "name": "python",
   "nbconvert_exporter": "python",
   "pygments_lexer": "ipython3",
   "version": "3.10.13"
  }
 },
 "nbformat": 4,
 "nbformat_minor": 5
}
