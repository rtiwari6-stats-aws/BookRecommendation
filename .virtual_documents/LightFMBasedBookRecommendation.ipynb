get_ipython().run_line_magic("pip", " --quiet install lightfm")



from lightfm.data import Dataset
import pandas as pd

dataset = Dataset()

books = pd.read_csv('Books.csv')
books = books.astype(str)

users = pd.read_csv('Users.csv')
users['Age'] = users['Age'].fillna(users['Age'].median())
users = users.astype(str)

ratings = pd.read_csv('Ratings.csv')
ratings = ratings.astype(str)
ratings['Book-Rating'] = ratings['Book-Rating'].astype(int)




print(users.head())
print(books.head())
print(ratings.head())


users=users[users['User-ID'].isin(ratings['User-ID'])] # ValueError: user id 1 not in user id mappings. (if user in users but not in ratings)
books=books[books['ISBN'].isin(ratings['ISBN'])] # ValueError: item id 044990671X not in item id mappings. (if book is in books but not in ratings)

book_features = [
    (item_id, [f'{title}', f'{author}', f'{year_of_publication}', f'{publisher}'])
    for item_id, title, author, year_of_publication, publisher in zip(books['ISBN'], books['Book-Title'], books['Book-Author'], books['Year-Of-Publication'], books['Publisher'])
]

user_features = [
    (user_id, [f'{location}', f'{age}'])
    for user_id, location, age in zip(users['User-ID'], users['Location'], users['Age'])
]


book_features[:5]


user_features[:5]




dataset.fit(
    users = ratings["User-ID"].unique(),
    items = ratings["ISBN"].unique(),
    user_features=users[["Location","Age"]].values.flatten().tolist(),
    item_features=books[["Book-Title","Book-Author","Year-Of-Publication","Publisher"]].values.flatten().tolist()
)

ratings_tuples = list(zip(ratings["User-ID"], ratings["ISBN"], ratings["Book-Rating"]))
(interactions, weights) = dataset.build_interactions(ratings_tuples)

user_features_list = dataset.build_user_features(user_features)
item_features_list = dataset.build_item_features(book_features)


user_features_list[:5]


item_features_list[:5]


from lightfm import LightFM

model = LightFM(loss="warp")
model.fit(
    interactions=interactions,
    sample_weight=weights,
    user_features=user_features_list,
    item_features=item_features_list,
    verbose=True,
    epochs=30,
    num_threads=2,
)


# from lightfm.evaluation import precision_at_k
# precision = precision_at_k(model, interactions, k=5, num_threads=2, 
#     user_features=user_features_list,
#     item_features=item_features_list,
# )

# print('Precision: ', precision.mean())



# predict(user_ids, item_ids, item_features=None, user_features=None, num_threads=1)
import numpy as np
book_ids = np.arange(len(ratings["ISBN"].unique()))
user_ids = np.arange(len(ratings["User-ID"].unique()))

# predict for user-id 20
pred = model.predict(
    user_ids=np.repeat(20, len(book_ids)),
    item_ids=book_ids,
    user_features=user_features_list,
    item_features=item_features_list,
    num_threads=2
)
print(pred)

max_index = np.argmax(pred)
ISBN = ratings["ISBN"].unique()[max_index]
print("Top Recommendation is " + books[books['ISBN']==ISBN]['Book-Title'])



