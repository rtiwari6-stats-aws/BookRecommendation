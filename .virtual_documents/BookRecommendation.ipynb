import numpy as np
import pandas as pd


books = pd.read_csv('Books.csv')
ratings = pd.read_csv('Ratings.csv')
users = pd.read_csv('Users.csv')


books.head()


ratings.head()


users.head()


print("Books Shape: " ,books.shape )
print("Ratings Shape: " ,ratings.shape )
print("Users Shape: " ,users.shape )


books_ratings=books.merge(ratings,on="ISBN")
books_ratings.head()


# popularity based

#logic for top 10 books
n = 10 # top 10 books
reviews_count=books_ratings.groupby("Book-Title")["Book-Rating"].count().reset_index()
reviews_count.rename(columns={"Book-Rating":"NumberOfVotes"},inplace=True)

popularBooks=reviews_count.sort_values(by="NumberOfVotes",ascending=False).head(n)

# top 10 books
popularBooks



