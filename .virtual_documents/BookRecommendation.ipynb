import numpy as np
import pandas as pd


books = pd.read_csv('Books.csv')
ratings = pd.read_csv('Ratings.csv')
users = pd.read_csv('Users.csv')


books.head()


ratings.head()


users.head()


print("Books Shape: " ,books.shape )
print("Ratings Shape: " ,ratings.shape )
print("Users Shape: " ,users.shape )


books_ratings=books.merge(ratings,on="ISBN")
books_ratings.head()


# popularity based

#logic for top 10 books
n = 10 # top 10 books
reviews_count=books_ratings.groupby("Book-Title")["Book-Rating"].count().reset_index()
reviews_count.rename(columns={"Book-Rating":"NumberOfVotes"},inplace=True)
reviews_average=books_ratings.groupby("Book-Title")["Book-Rating"].mean().reset_index()
reviews_average.rename(columns={"Book-Rating":"AverageRatings"},inplace=True)

popularBooks=reviews_count.merge(reviews_average,on="Book-Title")
popularBooks=popularBooks[popularBooks["AverageRatings"] >=9]
popularBooks=popularBooks.sort_values(by="NumberOfVotes",ascending=False).head(n)

# top 10 books
popularBooks



